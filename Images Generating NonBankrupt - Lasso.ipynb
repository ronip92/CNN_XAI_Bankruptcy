{
 "cells": [
  {
   "cell_type": "code",
   "execution_count": null,
   "id": "29ef3aae",
   "metadata": {},
   "outputs": [],
   "source": [
    "import pandas as pd\n",
    "import matplotlib.pyplot as plt\n",
    "import numpy as np\n",
    "import os"
   ]
  },
  {
   "cell_type": "code",
   "execution_count": null,
   "id": "9c3471d5",
   "metadata": {},
   "outputs": [],
   "source": [
    "df = pd.read_csv(\"10%_Non_Bankrupty.csv\", sep=',', header=0, encoding='cp950')"
   ]
  },
  {
   "cell_type": "code",
   "execution_count": null,
   "id": "ffeec073",
   "metadata": {},
   "outputs": [],
   "source": [
    "num_rows = df.shape[0]\n",
    "print(\"Total number of rows in the DataFrame:\", num_rows)"
   ]
  },
  {
   "cell_type": "code",
   "execution_count": null,
   "id": "19f00dab",
   "metadata": {},
   "outputs": [],
   "source": [
    "print(df.head(5))"
   ]
  },
  {
   "cell_type": "code",
   "execution_count": null,
   "id": "95689534",
   "metadata": {},
   "outputs": [],
   "source": [
    "df['date'] = pd.to_datetime(df['public_date'])\n",
    "df = df.sort_values(by=['permno', 'public_date'])\n",
    "\n",
    "# Ratios based on Feature Selection using LASSO\n",
    "ratios = ['X2', 'X3', 'X5', 'X6', 'X7', 'X8', 'X9', 'X12', 'X13', 'X14', 'X15', 'X16', \n",
    "          'X17', 'X18', 'X19', 'X20', 'X21', 'X22', 'X23', 'X24', 'X25', 'X26', 'X27', \n",
    "          'X28', 'X29', 'X31', 'X32', 'X33', 'X34', 'X35', 'X37', 'X38', 'X40', 'X41', \n",
    "          'X46', 'X48']"
   ]
  },
  {
   "cell_type": "code",
   "execution_count": null,
   "id": "76ff3336",
   "metadata": {},
   "outputs": [],
   "source": [
    "# 1. Calculate the Mean and Standard Deviation for Each Financial Ratio\n",
    "means = df[ratios].mean()\n",
    "stds = df[ratios].std()"
   ]
  },
  {
   "cell_type": "code",
   "execution_count": null,
   "id": "78cb401c",
   "metadata": {},
   "outputs": [],
   "source": [
    "# 2. Apply the Brightness Transformation\n",
    "def transform_brightness(value, mean, std):\n",
    "    if pd.isna(value) or std == 0:\n",
    "        return 128\n",
    "    brightness = (value - mean) / std * 100 + 128\n",
    "    return min(max(brightness, 0), 255)\n",
    "\n",
    "for ratio in ratios:\n",
    "    df[ratio] = df.apply(lambda row: transform_brightness(row[ratio], means[ratio], stds[ratio]), axis=1)"
   ]
  },
  {
   "cell_type": "code",
   "execution_count": null,
   "id": "f4f65f35",
   "metadata": {},
   "outputs": [],
   "source": [
    "# 3. Create the Visualization\n",
    "unique_companies = df['permno'].unique()\n",
    "for company in unique_companies:\n",
    "    company_data = df[df['permno'] == company]\n",
    "\n",
    "    # Sort in descending order by date\n",
    "    company_data = company_data.sort_values(by='date', ascending=False)\n",
    "    # Skip companies with fewer than 36 months of data\n",
    "    if len(company_data) < 36:\n",
    "        continue  \n",
    "    # Select the last (or only) 36 months of data\n",
    "    company_data = company_data.head(36)\n",
    "\n",
    "    # Sort again in ascending order so the data is from oldest to newest\n",
    "    company_data = company_data.sort_values(by='date', ascending=True)\n",
    "\n",
    "    # Adjust missing data here using ffill(), bfill(), interpolate()\n",
    "    company_data[ratios] = company_data[ratios].interpolate().ffill().bfill()\n",
    "\n",
    "    img_data = company_data[ratios].values\n",
    "\n",
    "    plt.figure(figsize=(8, 8))  # Set a specific size for plots\n",
    "    cax = plt.imshow(img_data, aspect='auto', cmap='gray', vmin=0, vmax=255)\n",
    "    plt.xticks([])\n",
    "    plt.yticks([])\n",
    "    # Saving the image\n",
    "    folder_path = 'Data/Non_Bankruptcy' \n",
    "    file_path = os.path.join(folder_path, f'company_{company}_image.png')\n",
    "    plt.savefig(file_path, bbox_inches='tight', pad_inches=0)\n",
    "    plt.close('all')\n"
   ]
  },
  {
   "cell_type": "code",
   "execution_count": null,
   "id": "328b91e7",
   "metadata": {},
   "outputs": [],
   "source": []
  }
 ],
 "metadata": {
  "kernelspec": {
   "display_name": "Python 3 (ipykernel)",
   "language": "python",
   "name": "python3"
  },
  "language_info": {
   "codemirror_mode": {
    "name": "ipython",
    "version": 3
   },
   "file_extension": ".py",
   "mimetype": "text/x-python",
   "name": "python",
   "nbconvert_exporter": "python",
   "pygments_lexer": "ipython3",
   "version": "3.10.4"
  }
 },
 "nbformat": 4,
 "nbformat_minor": 5
}
