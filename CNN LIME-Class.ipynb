{
 "cells": [
  {
   "cell_type": "code",
   "execution_count": null,
   "id": "a9bc66ce",
   "metadata": {},
   "outputs": [],
   "source": [
    "import tensorflow as tf\n",
    "import numpy as np\n",
    "import cv2\n",
    "import matplotlib.pyplot as plt\n",
    "from tensorflow.keras.preprocessing import image\n",
    "from lime import lime_image\n",
    "from skimage.segmentation import mark_boundaries, slic\n",
    "from skimage.color import gray2rgb, rgb2gray\n"
   ]
  },
  {
   "cell_type": "code",
   "execution_count": null,
   "id": "3430de52",
   "metadata": {},
   "outputs": [],
   "source": [
    "# Load model\n",
    "model = tf.keras.models.load_model('CNNFS.h5')"
   ]
  },
  {
   "cell_type": "code",
   "execution_count": null,
   "id": "c97fd0c2-97d4-412b-a2ab-f988a8e874bd",
   "metadata": {},
   "outputs": [],
   "source": [
    "import os\n",
    "\n",
    "image_path = r\"C:\\Users\\Administrator\\CNN Code - Github\\Data\\company_11508_image.png\"\n",
    "if not os.path.exists(image_path):\n",
    "    print(\"The file does not exist at the specified path.\")\n",
    "else:\n",
    "    print(\"File found at the specified path.\")\n"
   ]
  },
  {
   "cell_type": "code",
   "execution_count": null,
   "id": "af449f59",
   "metadata": {},
   "outputs": [],
   "source": [
    "# Load and preprocess the image\n",
    "#img_path = r'C:\\Users\\Administrator\\FS36\\FS0\\NonBankruptcy\\company_13311_image.png'  \n",
    "#img = image.load_img(img_path, target_size=(224, 224))  # Resize to match your model's input\n",
    "#img_array = image.img_to_array(img)\n",
    "#img_array = np.expand_dims(img_array, axis=0)\n",
    "#img_array /= 255.\n",
    "\n",
    "# Load and preprocess the image\n",
    "image_path = r\"C:\\Users\\Administrator\\CNN Code - Github\\Data\\Bankruptcy\\company_11508_image.png\"\n",
    "img = cv2.imread(image_path)\n",
    "img = cv2.resize(img, (224, 224))\n",
    "img = np.reshape(img, [1, 224, 224, 3])"
   ]
  },
  {
   "cell_type": "code",
   "execution_count": null,
   "id": "11d96809",
   "metadata": {},
   "outputs": [],
   "source": [
    "# Define the prediction function\n",
    "def predict_fn(images):\n",
    "    predictions = model.predict(images)\n",
    "    predicted_probability = predictions[0][0]\n",
    "    predicted_class = int(predicted_probability > 0.5)\n",
    "    return predicted_class, predicted_probability"
   ]
  },
  {
   "cell_type": "code",
   "execution_count": null,
   "id": "37c7a54d-715f-43bf-a4ae-c2537dd73296",
   "metadata": {},
   "outputs": [],
   "source": [
    "# Call the prediction function and capture the returned values\n",
    "predicted_class, predicted_probability = predict_fn(img)"
   ]
  },
  {
   "cell_type": "code",
   "execution_count": null,
   "id": "bd58688d-73c2-45a3-a0aa-cffb44a80309",
   "metadata": {},
   "outputs": [],
   "source": [
    "# Define class labels\n",
    "class_labels = {0: 'NonBankrupt', 1: 'Bankrupt'}"
   ]
  },
  {
   "cell_type": "code",
   "execution_count": null,
   "id": "3487174b-cf86-455b-b072-3403540521d9",
   "metadata": {},
   "outputs": [],
   "source": [
    "print(\"Predicted class:\", predicted_class)\n",
    "print(\"Predicted probability:\", predicted_probability)"
   ]
  },
  {
   "cell_type": "code",
   "execution_count": null,
   "id": "bd1e34b5-a46f-4b92-ab88-0351c0a9fe81",
   "metadata": {},
   "outputs": [],
   "source": [
    "# Make prediction to obtain predicted class and its probability\n",
    "predicted_class, predicted_probability = predict_fn(img)\n",
    "predicted_class_label = class_labels[predicted_class]"
   ]
  },
  {
   "cell_type": "code",
   "execution_count": null,
   "id": "f7547142",
   "metadata": {},
   "outputs": [],
   "source": [
    "# Generate superpixels for visualization\n",
    "superpixels = slic(img[0], n_segments=100, compactness=10, sigma=1)"
   ]
  },
  {
   "cell_type": "code",
   "execution_count": null,
   "id": "8a3e699f",
   "metadata": {},
   "outputs": [],
   "source": [
    "# Create a LimeImageExplainer\n",
    "explainer = lime_image.LimeImageExplainer()"
   ]
  },
  {
   "cell_type": "code",
   "execution_count": null,
   "id": "b0bc49b4-78c7-4405-aa06-f8bf8f0af462",
   "metadata": {},
   "outputs": [],
   "source": [
    "# Wrap the original model prediction function for LIME\n",
    "def lime_predict_fn(images):\n",
    "    # Ensure images are batched correctly\n",
    "    batched_images = np.stack(images, axis=0)\n",
    "    predictions = model.predict(batched_images)\n",
    "    return predictions"
   ]
  },
  {
   "cell_type": "code",
   "execution_count": null,
   "id": "0b5298ab",
   "metadata": {},
   "outputs": [],
   "source": [
    "# Explain the model's prediction using LIME\n",
    "explanation = explainer.explain_instance(\n",
    "    img[0], \n",
    "    lime_predict_fn,  # Use the wrapped prediction function for LIME\n",
    "    top_labels=1, \n",
    "    hide_color=0, \n",
    "    num_samples=200\n",
    ")"
   ]
  },
  {
   "cell_type": "code",
   "execution_count": null,
   "id": "4480b8ca",
   "metadata": {},
   "outputs": [],
   "source": [
    "# Get the weights for each superpixel\n",
    "weights = explanation.local_exp[explanation.top_labels[0]]\n",
    "weighted_superpixels = np.zeros(img[0].shape[:2])"
   ]
  },
  {
   "cell_type": "code",
   "execution_count": null,
   "id": "1df05fc1",
   "metadata": {},
   "outputs": [],
   "source": [
    "# Prepare the mask\n",
    "for weight, superpixel in weights:\n",
    "    weighted_superpixels[explanation.segments == superpixel] = weight"
   ]
  },
  {
   "cell_type": "code",
   "execution_count": null,
   "id": "b930252c",
   "metadata": {},
   "outputs": [],
   "source": [
    "# Visualize the segmented image with superpixels\n",
    "plt.imshow(mark_boundaries(img[0], superpixels))\n",
    "plt.title(f'Segmented Image - Predicted Class: {predicted_class_label}')\n",
    "plt.show()"
   ]
  },
  {
   "cell_type": "code",
   "execution_count": null,
   "id": "bbf56ed3",
   "metadata": {},
   "outputs": [],
   "source": [
    "# Display the original image with positive superpixels highlighted\n",
    "lime_img, mask = explanation.get_image_and_mask(\n",
    "    explanation.top_labels[0], \n",
    "    positive_only=True, \n",
    "    num_features=5, \n",
    "    hide_rest=False\n",
    ")\n",
    "plt.imshow(mark_boundaries(lime_img, mask))\n",
    "plt.title(f'LIME Explanation (Positive Contributions) - Predicted Class: {predicted_class_label}')\n",
    "plt.show()"
   ]
  },
  {
   "cell_type": "code",
   "execution_count": null,
   "id": "436e79b3",
   "metadata": {},
   "outputs": [],
   "source": [
    "# Optionally, display with both positive and negative superpixels\n",
    "lime_img, mask = explanation.get_image_and_mask(\n",
    "    explanation.top_labels[0], \n",
    "    positive_only=False, \n",
    "    num_features=10, \n",
    "    hide_rest=False\n",
    ")\n",
    "plt.imshow(mark_boundaries(lime_img, mask))\n",
    "plt.title('LIME Explanation (Positive and Negative Contributions)')\n",
    "plt.show()"
   ]
  },
  {
   "cell_type": "code",
   "execution_count": null,
   "id": "6a55ee80",
   "metadata": {},
   "outputs": [],
   "source": [
    "# Get the image array in RGB to overlay the colors\n",
    "original_image = gray2rgb(rgb2gray(img[0]))  # Convert to grayscale first if it's colored"
   ]
  },
  {
   "cell_type": "code",
   "execution_count": null,
   "id": "628f8980",
   "metadata": {},
   "outputs": [],
   "source": [
    "# Retrieve the weights for the top class\n",
    "top_label = explanation.top_labels[0]\n",
    "weights = dict(explanation.local_exp[top_label])\n",
    "segments = explanation.segments"
   ]
  },
  {
   "cell_type": "code",
   "execution_count": null,
   "id": "9081663a",
   "metadata": {},
   "outputs": [],
   "source": [
    "# Create a mask that will overlay the colors on the superpixels\n",
    "mask = np.zeros(segments.shape)\n",
    "\n",
    "for superpixel, weight in weights.items():\n",
    "    if weight > 0:\n",
    "        # Positive weights contribute to the prediction of the class (e.g., bankruptcy)\n",
    "        mask[segments == superpixel] = weight\n",
    "    else:\n",
    "        # Negative weights detract from the prediction of the class\n",
    "        mask[segments == superpixel] = weight"
   ]
  },
  {
   "cell_type": "code",
   "execution_count": null,
   "id": "3b9e46e4",
   "metadata": {},
   "outputs": [],
   "source": [
    "# Apply the color scheme with a blue-red colormap (negative-positive)\n",
    "plt.imshow(original_image)\n",
    "plt.imshow(mask, cmap='RdBu', alpha=0.5)  # alpha for transparency\n",
    "plt.colorbar()\n",
    "plt.title(f'Most Influential Features for the Model - Predicted Class: {predicted_class_label}')\n",
    "plt.show()"
   ]
  },
  {
   "cell_type": "code",
   "execution_count": null,
   "id": "2ea0168d",
   "metadata": {},
   "outputs": [],
   "source": []
  }
 ],
 "metadata": {
  "kernelspec": {
   "display_name": "Python 3 (ipykernel)",
   "language": "python",
   "name": "python3"
  },
  "language_info": {
   "codemirror_mode": {
    "name": "ipython",
    "version": 3
   },
   "file_extension": ".py",
   "mimetype": "text/x-python",
   "name": "python",
   "nbconvert_exporter": "python",
   "pygments_lexer": "ipython3",
   "version": "3.10.4"
  }
 },
 "nbformat": 4,
 "nbformat_minor": 5
}
