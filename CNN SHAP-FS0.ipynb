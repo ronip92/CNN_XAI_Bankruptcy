{
 "cells": [
  {
   "cell_type": "code",
   "execution_count": null,
   "id": "415e8e9c-01c7-4c09-beca-8223b325893b",
   "metadata": {},
   "outputs": [],
   "source": [
    "import os\n",
    "import numpy as np\n",
    "import tensorflow as tf\n",
    "from sklearn.model_selection import train_test_split\n",
    "import shap\n",
    "import matplotlib.pyplot as plt"
   ]
  },
  {
   "cell_type": "code",
   "execution_count": null,
   "id": "c69df36d-e6ed-4af6-bf45-3b44e2fa948a",
   "metadata": {},
   "outputs": [],
   "source": [
    "# Constants for labels\n",
    "Bankruptcy = 'Bankruptcy'\n",
    "Non_Bankruptcy = 'Non_Bankruptcy'"
   ]
  },
  {
   "cell_type": "code",
   "execution_count": null,
   "id": "ca421650-7608-4e62-b551-4551a5b55f58",
   "metadata": {},
   "outputs": [],
   "source": [
    "# Function to load images from a folder and extract company names\n",
    "def load_images_from_folder(folder, label):\n",
    "    images = []\n",
    "    company_names = []\n",
    "    for filename in os.listdir(folder):\n",
    "        if filename.endswith('.jpg') or filename.endswith('.png'):\n",
    "            image_path = os.path.join(folder, filename)\n",
    "            image = tf.keras.preprocessing.image.load_img(image_path, target_size=(224, 224))\n",
    "            image_array = tf.keras.preprocessing.image.img_to_array(image)\n",
    "            images.append(image_array)\n",
    "            company_names.append(filename.split('.')[0])\n",
    "    labels = [label] * len(images)\n",
    "    return images, labels, company_names"
   ]
  },
  {
   "cell_type": "code",
   "execution_count": null,
   "id": "ca9015b3-af54-4dbe-ae0c-76c7ebf6353b",
   "metadata": {},
   "outputs": [],
   "source": [
    "# Load Bankruptcy and Non-Bankruptcy images\n",
    "bankruptcy_images, bankruptcy_labels, bankruptcy_companies = load_images_from_folder(r'C:\\Users\\Administrator\\CNN Code - Github\\Data\\Bankruptcy', Bankruptcy)\n",
    "non_bankruptcy_images, non_bankruptcy_labels, non_bankruptcy_companies = load_images_from_folder(r'C:\\Users\\Administrator\\CNN Code - Github\\Data\\Non_Bankruptcy', Non_Bankruptcy)"
   ]
  },
  {
   "cell_type": "code",
   "execution_count": null,
   "id": "add89277-afeb-4ddd-a138-3d588e762189",
   "metadata": {},
   "outputs": [],
   "source": [
    "# Combine and prepare data\n",
    "images = np.array(bankruptcy_images + non_bankruptcy_images)\n",
    "labels = np.array(bankruptcy_labels + non_bankruptcy_labels)\n",
    "company_names = bankruptcy_companies + non_bankruptcy_companies"
   ]
  },
  {
   "cell_type": "code",
   "execution_count": null,
   "id": "1ef9b9c1-8c68-4386-9324-5ef28ae497a6",
   "metadata": {},
   "outputs": [],
   "source": [
    "# Split the data\n",
    "X_train, X_test, y_train, y_test, company_names_train, company_names_test = train_test_split(\n",
    "    images, labels, company_names, test_size=0.2, stratify=labels, random_state=42\n",
    ")"
   ]
  },
  {
   "cell_type": "code",
   "execution_count": null,
   "id": "86468761-6dcf-4d43-b67f-e5e58052985f",
   "metadata": {},
   "outputs": [],
   "source": [
    "# Normalize the image data\n",
    "X_train = X_train / 255.0\n",
    "X_test = X_test / 255.0"
   ]
  },
  {
   "cell_type": "code",
   "execution_count": null,
   "id": "00a2d0be-87c0-4957-a241-c69b40c67416",
   "metadata": {},
   "outputs": [],
   "source": [
    "# Load pre-trained model\n",
    "model = tf.keras.models.load_model('CNNFS.h5')"
   ]
  },
  {
   "cell_type": "code",
   "execution_count": null,
   "id": "8aa7ed4b-9d88-4825-8a68-e5dbe405071f",
   "metadata": {},
   "outputs": [],
   "source": [
    "# Get raw predictions\n",
    "predictions = model.predict(X_test[0:20])"
   ]
  },
  {
   "cell_type": "code",
   "execution_count": null,
   "id": "77176c2d-210a-4699-ba75-55a6ab1809ab",
   "metadata": {},
   "outputs": [],
   "source": [
    "print(\"Predicted Image:\", predictions)"
   ]
  },
  {
   "cell_type": "code",
   "execution_count": null,
   "id": "96688330-2489-44f3-af59-c53d8c03fbe5",
   "metadata": {},
   "outputs": [],
   "source": [
    "# Define a masker\n",
    "masker = shap.maskers.Image(\"inpaint_telea\", X_train[0].shape)"
   ]
  },
  {
   "cell_type": "code",
   "execution_count": null,
   "id": "a01f8fb6-14f3-4c15-85c3-afad893689b4",
   "metadata": {},
   "outputs": [],
   "source": [
    "# Create an explainer with the model prediction function, the image masker, and class names as strings\n",
    "explainer = shap.Explainer(model.predict, masker, output_names=[Bankruptcy, Non_Bankruptcy])"
   ]
  },
  {
   "cell_type": "code",
   "execution_count": null,
   "id": "c1d3f90c-0f5f-4c45-9602-e2e1ea6e73d3",
   "metadata": {},
   "outputs": [],
   "source": [
    "# Explain a subset of images\n",
    "shap_values = explainer (X_test[0:200], max_evals=2000, batch_size=50, outputs=shap.Explanation.argsort.flip[:2])\n"
   ]
  },
  {
   "cell_type": "code",
   "execution_count": null,
   "id": "bac22d93-8501-478c-9ec4-1133798d5787",
   "metadata": {},
   "outputs": [],
   "source": [
    "# Custom function to plot images with SHAP values and company names\n",
    "def plot_with_labels(images, shap_values, company_names, num_images=20):\n",
    "    num_images = min(num_images, len(images))\n",
    "    for i in range(num_images):\n",
    "        plt.figure(figsize=(10, 5))\n",
    "        plt.subplot(1, 2, 1)\n",
    "        plt.imshow(images[i] / 255.0)  # Assuming images are not normalized\n",
    "        plt.title(f\"Company: {company_names[i]}\")\n",
    "        plt.axis('off')\n",
    "        plt.subplot(1, 2, 2)\n",
    "        shap.image_plot(shap_values[i:i+1], show=False)\n",
    "        plt.show()"
   ]
  },
  {
   "cell_type": "code",
   "execution_count": null,
   "id": "be6342d1-1c33-4d48-b532-381cf90839e0",
   "metadata": {},
   "outputs": [],
   "source": [
    "# Visualize the SHAP values with company names\n",
    "plot_with_labels(X_test[0:20], shap_values, company_names_test[0:20])"
   ]
  },
  {
   "cell_type": "code",
   "execution_count": null,
   "id": "ad3022f6-68bb-49e2-a1e4-900cc0187407",
   "metadata": {},
   "outputs": [],
   "source": []
  }
 ],
 "metadata": {
  "kernelspec": {
   "display_name": "Python 3 (ipykernel)",
   "language": "python",
   "name": "python3"
  },
  "language_info": {
   "codemirror_mode": {
    "name": "ipython",
    "version": 3
   },
   "file_extension": ".py",
   "mimetype": "text/x-python",
   "name": "python",
   "nbconvert_exporter": "python",
   "pygments_lexer": "ipython3",
   "version": "3.10.4"
  }
 },
 "nbformat": 4,
 "nbformat_minor": 5
}
