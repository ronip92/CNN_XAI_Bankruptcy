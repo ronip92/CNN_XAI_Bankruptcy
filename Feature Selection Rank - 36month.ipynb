{
 "cells": [
  {
   "cell_type": "code",
   "execution_count": null,
   "id": "d037914c-184e-49fb-86be-c09f8141f6ec",
   "metadata": {},
   "outputs": [],
   "source": [
    "import pandas as pd\n",
    "from sklearn.model_selection import train_test_split\n",
    "from sklearn.preprocessing import StandardScaler\n",
    "from sklearn.impute import SimpleImputer\n",
    "from imblearn.over_sampling import SMOTE\n",
    "from sklearn.linear_model import Lasso, LogisticRegression\n",
    "from sklearn.feature_selection import SelectFromModel"
   ]
  },
  {
   "cell_type": "code",
   "execution_count": null,
   "id": "c7e08538-c2e4-472a-b371-65eae32a2209",
   "metadata": {},
   "outputs": [],
   "source": [
    "# Load the data\n",
    "df = pd.read_csv(\"sampled_10_percent.csv\", delimiter=',')"
   ]
  },
  {
   "cell_type": "code",
   "execution_count": null,
   "id": "107f50df-700f-4bea-b465-b1a7467327ac",
   "metadata": {},
   "outputs": [],
   "source": [
    "num_rows = df.shape[0]\n",
    "print(\"Total number of rows in the DataFrame:\", num_rows)"
   ]
  },
  {
   "cell_type": "code",
   "execution_count": null,
   "id": "81e0beca-e20c-4dd1-9c26-15872b63077b",
   "metadata": {},
   "outputs": [],
   "source": [
    "print(df.head(5))"
   ]
  },
  {
   "cell_type": "code",
   "execution_count": null,
   "id": "a23cdac0-beca-4663-95f6-c09d5378f8c7",
   "metadata": {},
   "outputs": [],
   "source": [
    "# Clean the data\n",
    "df['Bankruptcy'] = df['DLSTCD'].isin(['450', '460', '470', '490'] + list(range(550, 586)))\n",
    "df['date'] = pd.to_datetime(df['public_date'])\n",
    "df = df.sort_values(by=['permno', 'public_date'])\n",
    "\n",
    "# Mark all records of a company as bankrupt if identified as such at any point\n",
    "df['Bankrupt'] = df.groupby('permno')['Bankruptcy'].transform('max')\n",
    "\n",
    "# Filter to keep only the most recent 36 months of data for each company\n",
    "df['date'] = pd.to_datetime(df['public_date'])  # Ensure date is in datetime format\n",
    "df = df.sort_values(by=['permno', 'date'])  # Sort data\n",
    "\n",
    "# Filter out companies with less than 36 months of data\n",
    "filtered_df = df.groupby('permno').filter(lambda x: len(x) >= 36)\n",
    "\n",
    "# Keep only the most recent 36 months for each company\n",
    "filtered_df = filtered_df.groupby('permno').apply(lambda x: x.tail(36)).reset_index(drop=True)"
   ]
  },
  {
   "cell_type": "code",
   "execution_count": null,
   "id": "bd656348-db2b-4ed9-8e3c-c27b5c661d32",
   "metadata": {},
   "outputs": [],
   "source": [
    "print(\"Original Bankruptcy count:\")\n",
    "print(df['Bankruptcy'].value_counts())"
   ]
  },
  {
   "cell_type": "code",
   "execution_count": null,
   "id": "665f1ef4-6cd8-4415-a59d-d80175d57142",
   "metadata": {},
   "outputs": [],
   "source": [
    "print(\"\\nPropagated Bankrupt count:\")\n",
    "print(df['Bankrupt'].value_counts())"
   ]
  },
  {
   "cell_type": "code",
   "execution_count": null,
   "id": "827aa1aa-2fc2-48ae-809f-ee61ee6e75e1",
   "metadata": {},
   "outputs": [],
   "source": [
    "# Check the number of rows after filtering\n",
    "print(\"Number of rows after filtering:\", filtered_df.shape[0])"
   ]
  },
  {
   "cell_type": "code",
   "execution_count": null,
   "id": "8d4a77ee",
   "metadata": {},
   "outputs": [],
   "source": [
    "# Define features and target\n",
    "ratios = ['X1', 'X2', 'X3', 'X4', 'X5', 'X6', 'X7', 'X8', 'X9', 'X10',\n",
    "          'X11', 'X12', 'X13', 'X14', 'X15', 'X16', 'X17', 'X18', 'X19',\n",
    "          'X20', 'X21', 'X22', 'X23', 'X24', 'X25', 'X26', 'X27', 'X28',\n",
    "          'X29', 'X30', 'X31', 'X32', 'X33', 'X34', 'X35', 'X36', 'X37',\n",
    "          'X38', 'X39', 'X40', 'X41', 'X42', 'X43', 'X44', 'X45', 'X46',\n",
    "          'X47', 'X48', 'X49', 'X50', 'X51', 'X52', 'X53', 'X54', 'X55',\n",
    "          'X56', 'X57', 'X58', 'X59', 'X60', 'X61', 'X62', 'X63', 'X64',\n",
    "          'X65', 'X66', 'X67', 'X68', 'X69', 'X70', 'X71']"
   ]
  },
  {
   "cell_type": "code",
   "execution_count": null,
   "id": "9c60723c",
   "metadata": {},
   "outputs": [],
   "source": [
    "# Split the data\n",
    "X = df[ratios]\n",
    "y = df['Bankrupt']\n",
    "\n",
    "X_train, X_test, y_train, y_test = train_test_split(X, y, test_size=0.2, random_state=42)\n"
   ]
  },
  {
   "cell_type": "code",
   "execution_count": null,
   "id": "e0f1c387",
   "metadata": {},
   "outputs": [],
   "source": [
    "# Impute missing values using SimpleImputer with mean strategy\n",
    "imputer = SimpleImputer(strategy='mean')\n",
    "X_train_imputed = imputer.fit_transform(X_train)\n",
    "X_test_imputed = imputer.transform(X_test)"
   ]
  },
  {
   "cell_type": "code",
   "execution_count": null,
   "id": "55d0e0fc",
   "metadata": {},
   "outputs": [],
   "source": [
    "# Scale the data\n",
    "scaler = StandardScaler()\n",
    "X_train_scaled = scaler.fit_transform(X_train_imputed)\n",
    "X_test_scaled = scaler.transform(X_test_imputed)\n"
   ]
  },
  {
   "cell_type": "code",
   "execution_count": null,
   "id": "d4a99d8f",
   "metadata": {},
   "outputs": [],
   "source": [
    "# Balance class distribution SMOTE\n",
    "sm = SMOTE(random_state=42)\n",
    "X_train_resampled, y_train_resampled = sm.fit_resample(X_train_scaled, y_train)\n"
   ]
  },
  {
   "cell_type": "code",
   "execution_count": null,
   "id": "f3b93b40",
   "metadata": {},
   "outputs": [],
   "source": [
    "# Feature selection with LASSO\n",
    "# Define and fit the Lasso model\n",
    "lasso = Lasso(alpha=0.001, random_state=42)\n",
    "lasso.fit(X_train_resampled, y_train_resampled)\n",
    "\n",
    "# Select features based on importance (weights)\n",
    "model = SelectFromModel(lasso, prefit=True)\n",
    "X_train_selected = model.transform(X_train_resampled)\n",
    "X_test_selected = model.transform(X_test_scaled) "
   ]
  },
  {
   "cell_type": "code",
   "execution_count": null,
   "id": "9b144d2d",
   "metadata": {},
   "outputs": [],
   "source": [
    "# Get selected features\n",
    "selected_features = X.columns[(model.get_support())]\n",
    "print(\"Selected features:\", selected_features)"
   ]
  },
  {
   "cell_type": "code",
   "execution_count": null,
   "id": "c94165c1-e8b7-4072-900b-34db5730997b",
   "metadata": {},
   "outputs": [],
   "source": [
    "# Extracting the coefficients from the Lasso model\n",
    "lasso_coefficients = lasso.coef_\n",
    "\n",
    "# Creating a DataFrame for the coefficients\n",
    "coefficients_df = pd.DataFrame({'Feature': X.columns, 'Coefficient': lasso_coefficients})\n",
    "\n",
    "# Filter out only the selected features\n",
    "selected_coefficients_df = coefficients_df[coefficients_df['Feature'].isin(selected_features)]\n",
    "\n",
    "# Calculating the absolute values of the coefficients\n",
    "selected_coefficients_df['Abs_Coefficient'] = selected_coefficients_df['Coefficient'].abs()\n",
    "\n",
    "# Normalizing the coefficients to get their percentage contribution\n",
    "total = selected_coefficients_df['Abs_Coefficient'].sum()\n",
    "selected_coefficients_df['Percentage_Contribution'] = (selected_coefficients_df['Abs_Coefficient'] / total) * 100\n",
    "\n",
    "# Sorting by importance (highest to lowest)\n",
    "selected_coefficients_df"
   ]
  },
  {
   "cell_type": "code",
   "execution_count": null,
   "id": "ed2b34a2",
   "metadata": {},
   "outputs": [],
   "source": [
    "print(selected_coefficients_df.head(36))"
   ]
  },
  {
   "cell_type": "code",
   "execution_count": null,
   "id": "63a400fd",
   "metadata": {},
   "outputs": [],
   "source": []
  }
 ],
 "metadata": {
  "kernelspec": {
   "display_name": "Python 3 (ipykernel)",
   "language": "python",
   "name": "python3"
  },
  "language_info": {
   "codemirror_mode": {
    "name": "ipython",
    "version": 3
   },
   "file_extension": ".py",
   "mimetype": "text/x-python",
   "name": "python",
   "nbconvert_exporter": "python",
   "pygments_lexer": "ipython3",
   "version": "3.10.4"
  }
 },
 "nbformat": 4,
 "nbformat_minor": 5
}
